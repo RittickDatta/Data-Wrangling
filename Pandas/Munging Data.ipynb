{
 "cells": [
  {
   "cell_type": "code",
   "execution_count": 1,
   "metadata": {
    "collapsed": false
   },
   "outputs": [
    {
     "name": "stdout",
     "output_type": "stream",
     "text": [
      "Using matplotlib backend: Qt4Agg\n"
     ]
    }
   ],
   "source": [
    "%matplotlib\n"
   ]
  },
  {
   "cell_type": "code",
   "execution_count": 2,
   "metadata": {
    "collapsed": true
   },
   "outputs": [],
   "source": [
    "import numpy as np\n",
    "import pandas as pd"
   ]
  },
  {
   "cell_type": "code",
   "execution_count": 3,
   "metadata": {
    "collapsed": true
   },
   "outputs": [],
   "source": [
    "housing = pd.read_csv('Housing.csv')"
   ]
  },
  {
   "cell_type": "code",
   "execution_count": 5,
   "metadata": {
    "collapsed": false
   },
   "outputs": [
    {
     "data": {
      "text/plain": [
       "7098"
      ]
     },
     "execution_count": 5,
     "metadata": {},
     "output_type": "execute_result"
    }
   ],
   "source": [
    "housing.size"
   ]
  },
  {
   "cell_type": "code",
   "execution_count": 6,
   "metadata": {
    "collapsed": true
   },
   "outputs": [],
   "source": [
    "pd.set_option('display.max_columns', 10)"
   ]
  },
  {
   "cell_type": "code",
   "execution_count": 7,
   "metadata": {
    "collapsed": false
   },
   "outputs": [
    {
     "data": {
      "text/html": [
       "<div>\n",
       "<table border=\"1\" class=\"dataframe\">\n",
       "  <thead>\n",
       "    <tr style=\"text-align: right;\">\n",
       "      <th></th>\n",
       "      <th>Unnamed: 0</th>\n",
       "      <th>price</th>\n",
       "      <th>lotsize</th>\n",
       "      <th>bedrooms</th>\n",
       "      <th>bathrms</th>\n",
       "      <th>...</th>\n",
       "      <th>fullbase</th>\n",
       "      <th>gashw</th>\n",
       "      <th>airco</th>\n",
       "      <th>garagepl</th>\n",
       "      <th>prefarea</th>\n",
       "    </tr>\n",
       "  </thead>\n",
       "  <tbody>\n",
       "    <tr>\n",
       "      <th>0</th>\n",
       "      <td>1</td>\n",
       "      <td>42000.0</td>\n",
       "      <td>5850</td>\n",
       "      <td>3</td>\n",
       "      <td>1</td>\n",
       "      <td>...</td>\n",
       "      <td>yes</td>\n",
       "      <td>no</td>\n",
       "      <td>no</td>\n",
       "      <td>1</td>\n",
       "      <td>no</td>\n",
       "    </tr>\n",
       "    <tr>\n",
       "      <th>1</th>\n",
       "      <td>2</td>\n",
       "      <td>38500.0</td>\n",
       "      <td>4000</td>\n",
       "      <td>2</td>\n",
       "      <td>1</td>\n",
       "      <td>...</td>\n",
       "      <td>no</td>\n",
       "      <td>no</td>\n",
       "      <td>no</td>\n",
       "      <td>0</td>\n",
       "      <td>no</td>\n",
       "    </tr>\n",
       "    <tr>\n",
       "      <th>2</th>\n",
       "      <td>3</td>\n",
       "      <td>49500.0</td>\n",
       "      <td>3060</td>\n",
       "      <td>3</td>\n",
       "      <td>1</td>\n",
       "      <td>...</td>\n",
       "      <td>no</td>\n",
       "      <td>no</td>\n",
       "      <td>no</td>\n",
       "      <td>0</td>\n",
       "      <td>no</td>\n",
       "    </tr>\n",
       "  </tbody>\n",
       "</table>\n",
       "<p>3 rows × 13 columns</p>\n",
       "</div>"
      ],
      "text/plain": [
       "   Unnamed: 0    price  lotsize  bedrooms  bathrms   ...     fullbase gashw  \\\n",
       "0           1  42000.0     5850         3        1   ...          yes    no   \n",
       "1           2  38500.0     4000         2        1   ...           no    no   \n",
       "2           3  49500.0     3060         3        1   ...           no    no   \n",
       "\n",
       "  airco garagepl prefarea  \n",
       "0    no        1       no  \n",
       "1    no        0       no  \n",
       "2    no        0       no  \n",
       "\n",
       "[3 rows x 13 columns]"
      ]
     },
     "execution_count": 7,
     "metadata": {},
     "output_type": "execute_result"
    }
   ],
   "source": [
    "housing.head(3)"
   ]
  },
  {
   "cell_type": "code",
   "execution_count": 8,
   "metadata": {
    "collapsed": false
   },
   "outputs": [
    {
     "data": {
      "text/plain": [
       "(546, 13)"
      ]
     },
     "execution_count": 8,
     "metadata": {},
     "output_type": "execute_result"
    }
   ],
   "source": [
    "housing.shape"
   ]
  },
  {
   "cell_type": "code",
   "execution_count": 9,
   "metadata": {
    "collapsed": false
   },
   "outputs": [
    {
     "data": {
      "text/plain": [
       "546"
      ]
     },
     "execution_count": 9,
     "metadata": {},
     "output_type": "execute_result"
    }
   ],
   "source": [
    "len(housing)"
   ]
  },
  {
   "cell_type": "code",
   "execution_count": 10,
   "metadata": {
    "collapsed": false
   },
   "outputs": [
    {
     "data": {
      "text/plain": [
       "Index(['Unnamed: 0', 'price', 'lotsize', 'bedrooms', 'bathrms', 'stories',\n",
       "       'driveway', 'recroom', 'fullbase', 'gashw', 'airco', 'garagepl',\n",
       "       'prefarea'],\n",
       "      dtype='object')"
      ]
     },
     "execution_count": 10,
     "metadata": {},
     "output_type": "execute_result"
    }
   ],
   "source": [
    "\n",
    "housing.columns"
   ]
  },
  {
   "cell_type": "code",
   "execution_count": 12,
   "metadata": {
    "collapsed": false
   },
   "outputs": [
    {
     "data": {
      "text/plain": [
       "0    3\n",
       "1    2\n",
       "2    3\n",
       "3    3\n",
       "4    2\n",
       "Name: bedrooms, dtype: int64"
      ]
     },
     "execution_count": 12,
     "metadata": {},
     "output_type": "execute_result"
    }
   ],
   "source": [
    "housing['bedrooms'][:5]"
   ]
  },
  {
   "cell_type": "code",
   "execution_count": 14,
   "metadata": {
    "collapsed": false
   },
   "outputs": [],
   "source": [
    "noOfRoooms = pd.cut(housing['bedrooms'], 2)"
   ]
  },
  {
   "cell_type": "code",
   "execution_count": 15,
   "metadata": {
    "collapsed": false
   },
   "outputs": [
    {
     "data": {
      "text/plain": [
       "0      (0.995, 3.5]\n",
       "1      (0.995, 3.5]\n",
       "2      (0.995, 3.5]\n",
       "3      (0.995, 3.5]\n",
       "4      (0.995, 3.5]\n",
       "5      (0.995, 3.5]\n",
       "6      (0.995, 3.5]\n",
       "7      (0.995, 3.5]\n",
       "8      (0.995, 3.5]\n",
       "9      (0.995, 3.5]\n",
       "10     (0.995, 3.5]\n",
       "11     (0.995, 3.5]\n",
       "12     (0.995, 3.5]\n",
       "13     (0.995, 3.5]\n",
       "14     (0.995, 3.5]\n",
       "15     (0.995, 3.5]\n",
       "16     (0.995, 3.5]\n",
       "17         (3.5, 6]\n",
       "18     (0.995, 3.5]\n",
       "19     (0.995, 3.5]\n",
       "20     (0.995, 3.5]\n",
       "21         (3.5, 6]\n",
       "22     (0.995, 3.5]\n",
       "23     (0.995, 3.5]\n",
       "24     (0.995, 3.5]\n",
       "25     (0.995, 3.5]\n",
       "26     (0.995, 3.5]\n",
       "27     (0.995, 3.5]\n",
       "28     (0.995, 3.5]\n",
       "29     (0.995, 3.5]\n",
       "           ...     \n",
       "516    (0.995, 3.5]\n",
       "517        (3.5, 6]\n",
       "518        (3.5, 6]\n",
       "519    (0.995, 3.5]\n",
       "520        (3.5, 6]\n",
       "521        (3.5, 6]\n",
       "522        (3.5, 6]\n",
       "523        (3.5, 6]\n",
       "524        (3.5, 6]\n",
       "525    (0.995, 3.5]\n",
       "526    (0.995, 3.5]\n",
       "527    (0.995, 3.5]\n",
       "528    (0.995, 3.5]\n",
       "529    (0.995, 3.5]\n",
       "530    (0.995, 3.5]\n",
       "531    (0.995, 3.5]\n",
       "532    (0.995, 3.5]\n",
       "533    (0.995, 3.5]\n",
       "534    (0.995, 3.5]\n",
       "535    (0.995, 3.5]\n",
       "536    (0.995, 3.5]\n",
       "537    (0.995, 3.5]\n",
       "538    (0.995, 3.5]\n",
       "539        (3.5, 6]\n",
       "540    (0.995, 3.5]\n",
       "541    (0.995, 3.5]\n",
       "542    (0.995, 3.5]\n",
       "543    (0.995, 3.5]\n",
       "544    (0.995, 3.5]\n",
       "545    (0.995, 3.5]\n",
       "Name: bedrooms, dtype: category\n",
       "Categories (2, object): [(0.995, 3.5] < (3.5, 6]]"
      ]
     },
     "execution_count": 15,
     "metadata": {},
     "output_type": "execute_result"
    }
   ],
   "source": [
    "noOfRoooms"
   ]
  },
  {
   "cell_type": "code",
   "execution_count": 16,
   "metadata": {
    "collapsed": false
   },
   "outputs": [
    {
     "data": {
      "text/plain": [
       "(0.995, 3.5]    439\n",
       "(3.5, 6]        107\n",
       "dtype: int64"
      ]
     },
     "execution_count": 16,
     "metadata": {},
     "output_type": "execute_result"
    }
   ],
   "source": [
    "pd.value_counts(noOfRoooms)"
   ]
  },
  {
   "cell_type": "code",
   "execution_count": 17,
   "metadata": {
    "collapsed": false
   },
   "outputs": [
    {
     "data": {
      "text/html": [
       "<div>\n",
       "<table border=\"1\" class=\"dataframe\">\n",
       "  <thead>\n",
       "    <tr style=\"text-align: right;\">\n",
       "      <th></th>\n",
       "      <th>Unnamed: 0</th>\n",
       "      <th>price</th>\n",
       "      <th>lotsize</th>\n",
       "      <th>bedrooms</th>\n",
       "      <th>bathrms</th>\n",
       "      <th>stories</th>\n",
       "    </tr>\n",
       "  </thead>\n",
       "  <tbody>\n",
       "    <tr>\n",
       "      <th>0</th>\n",
       "      <td>1</td>\n",
       "      <td>42000.0</td>\n",
       "      <td>5850</td>\n",
       "      <td>3</td>\n",
       "      <td>1</td>\n",
       "      <td>2</td>\n",
       "    </tr>\n",
       "    <tr>\n",
       "      <th>1</th>\n",
       "      <td>2</td>\n",
       "      <td>38500.0</td>\n",
       "      <td>4000</td>\n",
       "      <td>2</td>\n",
       "      <td>1</td>\n",
       "      <td>1</td>\n",
       "    </tr>\n",
       "    <tr>\n",
       "      <th>2</th>\n",
       "      <td>3</td>\n",
       "      <td>49500.0</td>\n",
       "      <td>3060</td>\n",
       "      <td>3</td>\n",
       "      <td>1</td>\n",
       "      <td>1</td>\n",
       "    </tr>\n",
       "    <tr>\n",
       "      <th>3</th>\n",
       "      <td>4</td>\n",
       "      <td>60500.0</td>\n",
       "      <td>6650</td>\n",
       "      <td>3</td>\n",
       "      <td>1</td>\n",
       "      <td>2</td>\n",
       "    </tr>\n",
       "    <tr>\n",
       "      <th>4</th>\n",
       "      <td>5</td>\n",
       "      <td>61000.0</td>\n",
       "      <td>6360</td>\n",
       "      <td>2</td>\n",
       "      <td>1</td>\n",
       "      <td>1</td>\n",
       "    </tr>\n",
       "    <tr>\n",
       "      <th>5</th>\n",
       "      <td>6</td>\n",
       "      <td>66000.0</td>\n",
       "      <td>4160</td>\n",
       "      <td>3</td>\n",
       "      <td>1</td>\n",
       "      <td>1</td>\n",
       "    </tr>\n",
       "    <tr>\n",
       "      <th>6</th>\n",
       "      <td>7</td>\n",
       "      <td>66000.0</td>\n",
       "      <td>3880</td>\n",
       "      <td>3</td>\n",
       "      <td>2</td>\n",
       "      <td>2</td>\n",
       "    </tr>\n",
       "    <tr>\n",
       "      <th>7</th>\n",
       "      <td>8</td>\n",
       "      <td>69000.0</td>\n",
       "      <td>4160</td>\n",
       "      <td>3</td>\n",
       "      <td>1</td>\n",
       "      <td>3</td>\n",
       "    </tr>\n",
       "    <tr>\n",
       "      <th>8</th>\n",
       "      <td>9</td>\n",
       "      <td>83800.0</td>\n",
       "      <td>4800</td>\n",
       "      <td>3</td>\n",
       "      <td>1</td>\n",
       "      <td>1</td>\n",
       "    </tr>\n",
       "    <tr>\n",
       "      <th>9</th>\n",
       "      <td>10</td>\n",
       "      <td>88500.0</td>\n",
       "      <td>5500</td>\n",
       "      <td>3</td>\n",
       "      <td>2</td>\n",
       "      <td>4</td>\n",
       "    </tr>\n",
       "    <tr>\n",
       "      <th>10</th>\n",
       "      <td>11</td>\n",
       "      <td>90000.0</td>\n",
       "      <td>7200</td>\n",
       "      <td>3</td>\n",
       "      <td>2</td>\n",
       "      <td>1</td>\n",
       "    </tr>\n",
       "    <tr>\n",
       "      <th>11</th>\n",
       "      <td>12</td>\n",
       "      <td>30500.0</td>\n",
       "      <td>3000</td>\n",
       "      <td>2</td>\n",
       "      <td>1</td>\n",
       "      <td>1</td>\n",
       "    </tr>\n",
       "    <tr>\n",
       "      <th>12</th>\n",
       "      <td>13</td>\n",
       "      <td>27000.0</td>\n",
       "      <td>1700</td>\n",
       "      <td>3</td>\n",
       "      <td>1</td>\n",
       "      <td>2</td>\n",
       "    </tr>\n",
       "    <tr>\n",
       "      <th>13</th>\n",
       "      <td>14</td>\n",
       "      <td>36000.0</td>\n",
       "      <td>2880</td>\n",
       "      <td>3</td>\n",
       "      <td>1</td>\n",
       "      <td>1</td>\n",
       "    </tr>\n",
       "    <tr>\n",
       "      <th>14</th>\n",
       "      <td>15</td>\n",
       "      <td>37000.0</td>\n",
       "      <td>3600</td>\n",
       "      <td>2</td>\n",
       "      <td>1</td>\n",
       "      <td>1</td>\n",
       "    </tr>\n",
       "    <tr>\n",
       "      <th>15</th>\n",
       "      <td>16</td>\n",
       "      <td>37900.0</td>\n",
       "      <td>3185</td>\n",
       "      <td>2</td>\n",
       "      <td>1</td>\n",
       "      <td>1</td>\n",
       "    </tr>\n",
       "    <tr>\n",
       "      <th>16</th>\n",
       "      <td>17</td>\n",
       "      <td>40500.0</td>\n",
       "      <td>3300</td>\n",
       "      <td>3</td>\n",
       "      <td>1</td>\n",
       "      <td>2</td>\n",
       "    </tr>\n",
       "    <tr>\n",
       "      <th>17</th>\n",
       "      <td>18</td>\n",
       "      <td>40750.0</td>\n",
       "      <td>5200</td>\n",
       "      <td>4</td>\n",
       "      <td>1</td>\n",
       "      <td>3</td>\n",
       "    </tr>\n",
       "    <tr>\n",
       "      <th>18</th>\n",
       "      <td>19</td>\n",
       "      <td>45000.0</td>\n",
       "      <td>3450</td>\n",
       "      <td>1</td>\n",
       "      <td>1</td>\n",
       "      <td>1</td>\n",
       "    </tr>\n",
       "    <tr>\n",
       "      <th>19</th>\n",
       "      <td>20</td>\n",
       "      <td>45000.0</td>\n",
       "      <td>3986</td>\n",
       "      <td>2</td>\n",
       "      <td>2</td>\n",
       "      <td>1</td>\n",
       "    </tr>\n",
       "    <tr>\n",
       "      <th>20</th>\n",
       "      <td>21</td>\n",
       "      <td>48500.0</td>\n",
       "      <td>4785</td>\n",
       "      <td>3</td>\n",
       "      <td>1</td>\n",
       "      <td>2</td>\n",
       "    </tr>\n",
       "    <tr>\n",
       "      <th>21</th>\n",
       "      <td>22</td>\n",
       "      <td>65900.0</td>\n",
       "      <td>4510</td>\n",
       "      <td>4</td>\n",
       "      <td>2</td>\n",
       "      <td>2</td>\n",
       "    </tr>\n",
       "    <tr>\n",
       "      <th>22</th>\n",
       "      <td>23</td>\n",
       "      <td>37900.0</td>\n",
       "      <td>4000</td>\n",
       "      <td>3</td>\n",
       "      <td>1</td>\n",
       "      <td>2</td>\n",
       "    </tr>\n",
       "    <tr>\n",
       "      <th>23</th>\n",
       "      <td>24</td>\n",
       "      <td>38000.0</td>\n",
       "      <td>3934</td>\n",
       "      <td>2</td>\n",
       "      <td>1</td>\n",
       "      <td>1</td>\n",
       "    </tr>\n",
       "    <tr>\n",
       "      <th>24</th>\n",
       "      <td>25</td>\n",
       "      <td>42000.0</td>\n",
       "      <td>4960</td>\n",
       "      <td>2</td>\n",
       "      <td>1</td>\n",
       "      <td>1</td>\n",
       "    </tr>\n",
       "    <tr>\n",
       "      <th>25</th>\n",
       "      <td>26</td>\n",
       "      <td>42300.0</td>\n",
       "      <td>3000</td>\n",
       "      <td>2</td>\n",
       "      <td>1</td>\n",
       "      <td>2</td>\n",
       "    </tr>\n",
       "    <tr>\n",
       "      <th>26</th>\n",
       "      <td>27</td>\n",
       "      <td>43500.0</td>\n",
       "      <td>3800</td>\n",
       "      <td>2</td>\n",
       "      <td>1</td>\n",
       "      <td>1</td>\n",
       "    </tr>\n",
       "    <tr>\n",
       "      <th>27</th>\n",
       "      <td>28</td>\n",
       "      <td>44000.0</td>\n",
       "      <td>4960</td>\n",
       "      <td>2</td>\n",
       "      <td>1</td>\n",
       "      <td>1</td>\n",
       "    </tr>\n",
       "    <tr>\n",
       "      <th>28</th>\n",
       "      <td>29</td>\n",
       "      <td>44500.0</td>\n",
       "      <td>3000</td>\n",
       "      <td>3</td>\n",
       "      <td>1</td>\n",
       "      <td>1</td>\n",
       "    </tr>\n",
       "    <tr>\n",
       "      <th>29</th>\n",
       "      <td>30</td>\n",
       "      <td>44900.0</td>\n",
       "      <td>4500</td>\n",
       "      <td>3</td>\n",
       "      <td>1</td>\n",
       "      <td>2</td>\n",
       "    </tr>\n",
       "    <tr>\n",
       "      <th>...</th>\n",
       "      <td>...</td>\n",
       "      <td>...</td>\n",
       "      <td>...</td>\n",
       "      <td>...</td>\n",
       "      <td>...</td>\n",
       "      <td>...</td>\n",
       "    </tr>\n",
       "    <tr>\n",
       "      <th>516</th>\n",
       "      <td>517</td>\n",
       "      <td>95000.0</td>\n",
       "      <td>6000</td>\n",
       "      <td>3</td>\n",
       "      <td>2</td>\n",
       "      <td>3</td>\n",
       "    </tr>\n",
       "    <tr>\n",
       "      <th>517</th>\n",
       "      <td>518</td>\n",
       "      <td>96500.0</td>\n",
       "      <td>6000</td>\n",
       "      <td>4</td>\n",
       "      <td>2</td>\n",
       "      <td>4</td>\n",
       "    </tr>\n",
       "    <tr>\n",
       "      <th>518</th>\n",
       "      <td>519</td>\n",
       "      <td>101000.0</td>\n",
       "      <td>6240</td>\n",
       "      <td>4</td>\n",
       "      <td>2</td>\n",
       "      <td>2</td>\n",
       "    </tr>\n",
       "    <tr>\n",
       "      <th>519</th>\n",
       "      <td>520</td>\n",
       "      <td>102000.0</td>\n",
       "      <td>6000</td>\n",
       "      <td>3</td>\n",
       "      <td>2</td>\n",
       "      <td>2</td>\n",
       "    </tr>\n",
       "    <tr>\n",
       "      <th>520</th>\n",
       "      <td>521</td>\n",
       "      <td>103000.0</td>\n",
       "      <td>7680</td>\n",
       "      <td>4</td>\n",
       "      <td>2</td>\n",
       "      <td>4</td>\n",
       "    </tr>\n",
       "    <tr>\n",
       "      <th>521</th>\n",
       "      <td>522</td>\n",
       "      <td>105000.0</td>\n",
       "      <td>6000</td>\n",
       "      <td>4</td>\n",
       "      <td>2</td>\n",
       "      <td>4</td>\n",
       "    </tr>\n",
       "    <tr>\n",
       "      <th>522</th>\n",
       "      <td>523</td>\n",
       "      <td>108000.0</td>\n",
       "      <td>6000</td>\n",
       "      <td>4</td>\n",
       "      <td>2</td>\n",
       "      <td>4</td>\n",
       "    </tr>\n",
       "    <tr>\n",
       "      <th>523</th>\n",
       "      <td>524</td>\n",
       "      <td>110000.0</td>\n",
       "      <td>6000</td>\n",
       "      <td>4</td>\n",
       "      <td>2</td>\n",
       "      <td>4</td>\n",
       "    </tr>\n",
       "    <tr>\n",
       "      <th>524</th>\n",
       "      <td>525</td>\n",
       "      <td>113000.0</td>\n",
       "      <td>6000</td>\n",
       "      <td>4</td>\n",
       "      <td>2</td>\n",
       "      <td>4</td>\n",
       "    </tr>\n",
       "    <tr>\n",
       "      <th>525</th>\n",
       "      <td>526</td>\n",
       "      <td>120000.0</td>\n",
       "      <td>7475</td>\n",
       "      <td>3</td>\n",
       "      <td>2</td>\n",
       "      <td>4</td>\n",
       "    </tr>\n",
       "    <tr>\n",
       "      <th>526</th>\n",
       "      <td>527</td>\n",
       "      <td>105000.0</td>\n",
       "      <td>5150</td>\n",
       "      <td>3</td>\n",
       "      <td>2</td>\n",
       "      <td>4</td>\n",
       "    </tr>\n",
       "    <tr>\n",
       "      <th>527</th>\n",
       "      <td>528</td>\n",
       "      <td>106000.0</td>\n",
       "      <td>6325</td>\n",
       "      <td>3</td>\n",
       "      <td>1</td>\n",
       "      <td>4</td>\n",
       "    </tr>\n",
       "    <tr>\n",
       "      <th>528</th>\n",
       "      <td>529</td>\n",
       "      <td>107500.0</td>\n",
       "      <td>6000</td>\n",
       "      <td>3</td>\n",
       "      <td>2</td>\n",
       "      <td>4</td>\n",
       "    </tr>\n",
       "    <tr>\n",
       "      <th>529</th>\n",
       "      <td>530</td>\n",
       "      <td>108000.0</td>\n",
       "      <td>6000</td>\n",
       "      <td>3</td>\n",
       "      <td>2</td>\n",
       "      <td>3</td>\n",
       "    </tr>\n",
       "    <tr>\n",
       "      <th>530</th>\n",
       "      <td>531</td>\n",
       "      <td>113750.0</td>\n",
       "      <td>6000</td>\n",
       "      <td>3</td>\n",
       "      <td>1</td>\n",
       "      <td>4</td>\n",
       "    </tr>\n",
       "    <tr>\n",
       "      <th>531</th>\n",
       "      <td>532</td>\n",
       "      <td>120000.0</td>\n",
       "      <td>7000</td>\n",
       "      <td>3</td>\n",
       "      <td>1</td>\n",
       "      <td>4</td>\n",
       "    </tr>\n",
       "    <tr>\n",
       "      <th>532</th>\n",
       "      <td>533</td>\n",
       "      <td>70000.0</td>\n",
       "      <td>12900</td>\n",
       "      <td>3</td>\n",
       "      <td>1</td>\n",
       "      <td>1</td>\n",
       "    </tr>\n",
       "    <tr>\n",
       "      <th>533</th>\n",
       "      <td>534</td>\n",
       "      <td>71000.0</td>\n",
       "      <td>7686</td>\n",
       "      <td>3</td>\n",
       "      <td>1</td>\n",
       "      <td>1</td>\n",
       "    </tr>\n",
       "    <tr>\n",
       "      <th>534</th>\n",
       "      <td>535</td>\n",
       "      <td>82000.0</td>\n",
       "      <td>5000</td>\n",
       "      <td>3</td>\n",
       "      <td>1</td>\n",
       "      <td>3</td>\n",
       "    </tr>\n",
       "    <tr>\n",
       "      <th>535</th>\n",
       "      <td>536</td>\n",
       "      <td>82000.0</td>\n",
       "      <td>5800</td>\n",
       "      <td>3</td>\n",
       "      <td>2</td>\n",
       "      <td>4</td>\n",
       "    </tr>\n",
       "    <tr>\n",
       "      <th>536</th>\n",
       "      <td>537</td>\n",
       "      <td>82500.0</td>\n",
       "      <td>6000</td>\n",
       "      <td>3</td>\n",
       "      <td>2</td>\n",
       "      <td>4</td>\n",
       "    </tr>\n",
       "    <tr>\n",
       "      <th>537</th>\n",
       "      <td>538</td>\n",
       "      <td>83000.0</td>\n",
       "      <td>4800</td>\n",
       "      <td>3</td>\n",
       "      <td>1</td>\n",
       "      <td>3</td>\n",
       "    </tr>\n",
       "    <tr>\n",
       "      <th>538</th>\n",
       "      <td>539</td>\n",
       "      <td>84000.0</td>\n",
       "      <td>6500</td>\n",
       "      <td>3</td>\n",
       "      <td>2</td>\n",
       "      <td>3</td>\n",
       "    </tr>\n",
       "    <tr>\n",
       "      <th>539</th>\n",
       "      <td>540</td>\n",
       "      <td>85000.0</td>\n",
       "      <td>7320</td>\n",
       "      <td>4</td>\n",
       "      <td>2</td>\n",
       "      <td>2</td>\n",
       "    </tr>\n",
       "    <tr>\n",
       "      <th>540</th>\n",
       "      <td>541</td>\n",
       "      <td>85000.0</td>\n",
       "      <td>6525</td>\n",
       "      <td>3</td>\n",
       "      <td>2</td>\n",
       "      <td>4</td>\n",
       "    </tr>\n",
       "    <tr>\n",
       "      <th>541</th>\n",
       "      <td>542</td>\n",
       "      <td>91500.0</td>\n",
       "      <td>4800</td>\n",
       "      <td>3</td>\n",
       "      <td>2</td>\n",
       "      <td>4</td>\n",
       "    </tr>\n",
       "    <tr>\n",
       "      <th>542</th>\n",
       "      <td>543</td>\n",
       "      <td>94000.0</td>\n",
       "      <td>6000</td>\n",
       "      <td>3</td>\n",
       "      <td>2</td>\n",
       "      <td>4</td>\n",
       "    </tr>\n",
       "    <tr>\n",
       "      <th>543</th>\n",
       "      <td>544</td>\n",
       "      <td>103000.0</td>\n",
       "      <td>6000</td>\n",
       "      <td>3</td>\n",
       "      <td>2</td>\n",
       "      <td>4</td>\n",
       "    </tr>\n",
       "    <tr>\n",
       "      <th>544</th>\n",
       "      <td>545</td>\n",
       "      <td>105000.0</td>\n",
       "      <td>6000</td>\n",
       "      <td>3</td>\n",
       "      <td>2</td>\n",
       "      <td>2</td>\n",
       "    </tr>\n",
       "    <tr>\n",
       "      <th>545</th>\n",
       "      <td>546</td>\n",
       "      <td>105000.0</td>\n",
       "      <td>6000</td>\n",
       "      <td>3</td>\n",
       "      <td>1</td>\n",
       "      <td>2</td>\n",
       "    </tr>\n",
       "  </tbody>\n",
       "</table>\n",
       "<p>546 rows × 6 columns</p>\n",
       "</div>"
      ],
      "text/plain": [
       "     Unnamed: 0     price  lotsize  bedrooms  bathrms  stories\n",
       "0             1   42000.0     5850         3        1        2\n",
       "1             2   38500.0     4000         2        1        1\n",
       "2             3   49500.0     3060         3        1        1\n",
       "3             4   60500.0     6650         3        1        2\n",
       "4             5   61000.0     6360         2        1        1\n",
       "5             6   66000.0     4160         3        1        1\n",
       "6             7   66000.0     3880         3        2        2\n",
       "7             8   69000.0     4160         3        1        3\n",
       "8             9   83800.0     4800         3        1        1\n",
       "9            10   88500.0     5500         3        2        4\n",
       "10           11   90000.0     7200         3        2        1\n",
       "11           12   30500.0     3000         2        1        1\n",
       "12           13   27000.0     1700         3        1        2\n",
       "13           14   36000.0     2880         3        1        1\n",
       "14           15   37000.0     3600         2        1        1\n",
       "15           16   37900.0     3185         2        1        1\n",
       "16           17   40500.0     3300         3        1        2\n",
       "17           18   40750.0     5200         4        1        3\n",
       "18           19   45000.0     3450         1        1        1\n",
       "19           20   45000.0     3986         2        2        1\n",
       "20           21   48500.0     4785         3        1        2\n",
       "21           22   65900.0     4510         4        2        2\n",
       "22           23   37900.0     4000         3        1        2\n",
       "23           24   38000.0     3934         2        1        1\n",
       "24           25   42000.0     4960         2        1        1\n",
       "25           26   42300.0     3000         2        1        2\n",
       "26           27   43500.0     3800         2        1        1\n",
       "27           28   44000.0     4960         2        1        1\n",
       "28           29   44500.0     3000         3        1        1\n",
       "29           30   44900.0     4500         3        1        2\n",
       "..          ...       ...      ...       ...      ...      ...\n",
       "516         517   95000.0     6000         3        2        3\n",
       "517         518   96500.0     6000         4        2        4\n",
       "518         519  101000.0     6240         4        2        2\n",
       "519         520  102000.0     6000         3        2        2\n",
       "520         521  103000.0     7680         4        2        4\n",
       "521         522  105000.0     6000         4        2        4\n",
       "522         523  108000.0     6000         4        2        4\n",
       "523         524  110000.0     6000         4        2        4\n",
       "524         525  113000.0     6000         4        2        4\n",
       "525         526  120000.0     7475         3        2        4\n",
       "526         527  105000.0     5150         3        2        4\n",
       "527         528  106000.0     6325         3        1        4\n",
       "528         529  107500.0     6000         3        2        4\n",
       "529         530  108000.0     6000         3        2        3\n",
       "530         531  113750.0     6000         3        1        4\n",
       "531         532  120000.0     7000         3        1        4\n",
       "532         533   70000.0    12900         3        1        1\n",
       "533         534   71000.0     7686         3        1        1\n",
       "534         535   82000.0     5000         3        1        3\n",
       "535         536   82000.0     5800         3        2        4\n",
       "536         537   82500.0     6000         3        2        4\n",
       "537         538   83000.0     4800         3        1        3\n",
       "538         539   84000.0     6500         3        2        3\n",
       "539         540   85000.0     7320         4        2        2\n",
       "540         541   85000.0     6525         3        2        4\n",
       "541         542   91500.0     4800         3        2        4\n",
       "542         543   94000.0     6000         3        2        4\n",
       "543         544  103000.0     6000         3        2        4\n",
       "544         545  105000.0     6000         3        2        2\n",
       "545         546  105000.0     6000         3        1        2\n",
       "\n",
       "[546 rows x 6 columns]"
      ]
     },
     "execution_count": 17,
     "metadata": {},
     "output_type": "execute_result"
    }
   ],
   "source": [
    "housing.ix[:,:6]"
   ]
  },
  {
   "cell_type": "code",
   "execution_count": 18,
   "metadata": {
    "collapsed": false
   },
   "outputs": [
    {
     "name": "stderr",
     "output_type": "stream",
     "text": [
      "C:\\Users\\Rittick\\Anaconda3\\lib\\site-packages\\ipykernel\\__main__.py:1: FutureWarning: order is deprecated, use sort_values(...)\n",
      "  if __name__ == '__main__':\n"
     ]
    },
    {
     "data": {
      "text/plain": [
       "55     25000.0\n",
       "162    25000.0\n",
       "232    25000.0\n",
       "Name: price, dtype: float64"
      ]
     },
     "execution_count": 18,
     "metadata": {},
     "output_type": "execute_result"
    }
   ],
   "source": [
    "housing['price'].order()[:3]"
   ]
  },
  {
   "cell_type": "code",
   "execution_count": 19,
   "metadata": {
    "collapsed": false
   },
   "outputs": [
    {
     "name": "stderr",
     "output_type": "stream",
     "text": [
      "C:\\Users\\Rittick\\Anaconda3\\lib\\site-packages\\ipykernel\\__main__.py:1: FutureWarning: sort(columns=....) is deprecated, use sort_values(by=.....)\n",
      "  if __name__ == '__main__':\n"
     ]
    }
   ],
   "source": [
    "sortedData = housing.sort(['lotsize'])"
   ]
  },
  {
   "cell_type": "code",
   "execution_count": 20,
   "metadata": {
    "collapsed": false
   },
   "outputs": [
    {
     "data": {
      "text/html": [
       "<div>\n",
       "<table border=\"1\" class=\"dataframe\">\n",
       "  <thead>\n",
       "    <tr style=\"text-align: right;\">\n",
       "      <th></th>\n",
       "      <th>Unnamed: 0</th>\n",
       "      <th>price</th>\n",
       "      <th>lotsize</th>\n",
       "      <th>bedrooms</th>\n",
       "      <th>bathrms</th>\n",
       "      <th>stories</th>\n",
       "    </tr>\n",
       "  </thead>\n",
       "  <tbody>\n",
       "    <tr>\n",
       "      <th>76</th>\n",
       "      <td>77</td>\n",
       "      <td>45000.0</td>\n",
       "      <td>1650</td>\n",
       "      <td>3</td>\n",
       "      <td>1</td>\n",
       "      <td>2</td>\n",
       "    </tr>\n",
       "    <tr>\n",
       "      <th>12</th>\n",
       "      <td>13</td>\n",
       "      <td>27000.0</td>\n",
       "      <td>1700</td>\n",
       "      <td>3</td>\n",
       "      <td>1</td>\n",
       "      <td>2</td>\n",
       "    </tr>\n",
       "    <tr>\n",
       "      <th>72</th>\n",
       "      <td>73</td>\n",
       "      <td>32500.0</td>\n",
       "      <td>1836</td>\n",
       "      <td>2</td>\n",
       "      <td>1</td>\n",
       "      <td>1</td>\n",
       "    </tr>\n",
       "    <tr>\n",
       "      <th>158</th>\n",
       "      <td>159</td>\n",
       "      <td>62000.0</td>\n",
       "      <td>1905</td>\n",
       "      <td>5</td>\n",
       "      <td>1</td>\n",
       "      <td>2</td>\n",
       "    </tr>\n",
       "    <tr>\n",
       "      <th>463</th>\n",
       "      <td>464</td>\n",
       "      <td>49000.0</td>\n",
       "      <td>1950</td>\n",
       "      <td>3</td>\n",
       "      <td>2</td>\n",
       "      <td>2</td>\n",
       "    </tr>\n",
       "  </tbody>\n",
       "</table>\n",
       "</div>"
      ],
      "text/plain": [
       "     Unnamed: 0    price  lotsize  bedrooms  bathrms  stories\n",
       "76           77  45000.0     1650         3        1        2\n",
       "12           13  27000.0     1700         3        1        2\n",
       "72           73  32500.0     1836         2        1        1\n",
       "158         159  62000.0     1905         5        1        2\n",
       "463         464  49000.0     1950         3        2        2"
      ]
     },
     "execution_count": 20,
     "metadata": {},
     "output_type": "execute_result"
    }
   ],
   "source": [
    "sortedData.ix[:,:6].head()"
   ]
  },
  {
   "cell_type": "code",
   "execution_count": 22,
   "metadata": {
    "collapsed": false
   },
   "outputs": [
    {
     "data": {
      "text/html": [
       "<div>\n",
       "<table border=\"1\" class=\"dataframe\">\n",
       "  <thead>\n",
       "    <tr style=\"text-align: right;\">\n",
       "      <th></th>\n",
       "      <th>Unnamed: 0</th>\n",
       "      <th>price</th>\n",
       "      <th>lotsize</th>\n",
       "    </tr>\n",
       "  </thead>\n",
       "  <tbody>\n",
       "    <tr>\n",
       "      <th>76</th>\n",
       "      <td>77</td>\n",
       "      <td>45000.0</td>\n",
       "      <td>1650</td>\n",
       "    </tr>\n",
       "    <tr>\n",
       "      <th>12</th>\n",
       "      <td>13</td>\n",
       "      <td>27000.0</td>\n",
       "      <td>1700</td>\n",
       "    </tr>\n",
       "    <tr>\n",
       "      <th>72</th>\n",
       "      <td>73</td>\n",
       "      <td>32500.0</td>\n",
       "      <td>1836</td>\n",
       "    </tr>\n",
       "  </tbody>\n",
       "</table>\n",
       "</div>"
      ],
      "text/plain": [
       "    Unnamed: 0    price  lotsize\n",
       "76          77  45000.0     1650\n",
       "12          13  27000.0     1700\n",
       "72          73  32500.0     1836"
      ]
     },
     "execution_count": 22,
     "metadata": {},
     "output_type": "execute_result"
    }
   ],
   "source": [
    "sortedData.iloc[:3, :3]"
   ]
  },
  {
   "cell_type": "code",
   "execution_count": 23,
   "metadata": {
    "collapsed": false
   },
   "outputs": [
    {
     "data": {
      "text/plain": [
       "60000.0     17\n",
       "50000.0     17\n",
       "70000.0     12\n",
       "75000.0      9\n",
       "52000.0      9\n",
       "80000.0      9\n",
       "45000.0      9\n",
       "47000.0      8\n",
       "85000.0      8\n",
       "42000.0      8\n",
       "48000.0      8\n",
       "43000.0      7\n",
       "65000.0      7\n",
       "55000.0      7\n",
       "38000.0      7\n",
       "56000.0      7\n",
       "95000.0      6\n",
       "67000.0      6\n",
       "35000.0      6\n",
       "82000.0      6\n",
       "54000.0      6\n",
       "61000.0      6\n",
       "49000.0      6\n",
       "58000.0      5\n",
       "64000.0      5\n",
       "66000.0      5\n",
       "90000.0      5\n",
       "57000.0      5\n",
       "62000.0      5\n",
       "53000.0      5\n",
       "            ..\n",
       "67900.0      1\n",
       "107000.0     1\n",
       "47600.0      1\n",
       "155000.0     1\n",
       "49900.0      1\n",
       "87500.0      1\n",
       "104900.0     1\n",
       "174500.0     1\n",
       "26000.0      1\n",
       "112000.0     1\n",
       "65900.0      1\n",
       "126500.0     1\n",
       "34400.0      1\n",
       "33500.0      1\n",
       "25245.0      1\n",
       "98000.0      1\n",
       "141000.0     1\n",
       "48900.0      1\n",
       "51900.0      1\n",
       "138300.0     1\n",
       "100000.0     1\n",
       "44700.0      1\n",
       "82500.0      1\n",
       "122500.0     1\n",
       "114000.0     1\n",
       "102000.0     1\n",
       "70100.0      1\n",
       "38500.0      1\n",
       "100500.0     1\n",
       "128000.0     1\n",
       "Name: price, dtype: int64"
      ]
     },
     "execution_count": 23,
     "metadata": {},
     "output_type": "execute_result"
    }
   ],
   "source": [
    "sortedData['price'].value_counts()"
   ]
  },
  {
   "cell_type": "code",
   "execution_count": 30,
   "metadata": {
    "collapsed": false
   },
   "outputs": [],
   "source": [
    "dataTypes = zip(housing.columns, [type(x) for x in housing.ix[0,:]])"
   ]
  },
  {
   "cell_type": "code",
   "execution_count": 31,
   "metadata": {
    "collapsed": false
   },
   "outputs": [
    {
     "name": "stdout",
     "output_type": "stream",
     "text": [
      "('Unnamed: 0', <class 'numpy.int64'>)\n",
      "('price', <class 'numpy.float64'>)\n",
      "('lotsize', <class 'numpy.int64'>)\n",
      "('bedrooms', <class 'numpy.int64'>)\n",
      "('bathrms', <class 'numpy.int64'>)\n",
      "('stories', <class 'numpy.int64'>)\n",
      "('driveway', <class 'str'>)\n",
      "('recroom', <class 'str'>)\n",
      "('fullbase', <class 'str'>)\n",
      "('gashw', <class 'str'>)\n",
      "('airco', <class 'str'>)\n",
      "('garagepl', <class 'numpy.int64'>)\n",
      "('prefarea', <class 'str'>)\n"
     ]
    }
   ],
   "source": [
    "for i in dataTypes:\n",
    "    print(i)"
   ]
  },
  {
   "cell_type": "code",
   "execution_count": 32,
   "metadata": {
    "collapsed": false
   },
   "outputs": [
    {
     "data": {
      "text/plain": [
       "Unnamed: 0      int64\n",
       "price         float64\n",
       "lotsize         int64\n",
       "bedrooms        int64\n",
       "bathrms         int64\n",
       "stories         int64\n",
       "driveway       object\n",
       "recroom        object\n",
       "fullbase       object\n",
       "gashw          object\n",
       "airco          object\n",
       "garagepl        int64\n",
       "prefarea       object\n",
       "dtype: object"
      ]
     },
     "execution_count": 32,
     "metadata": {},
     "output_type": "execute_result"
    }
   ],
   "source": [
    "housing.dtypes"
   ]
  },
  {
   "cell_type": "code",
   "execution_count": 36,
   "metadata": {
    "collapsed": false
   },
   "outputs": [
    {
     "data": {
      "text/plain": [
       "array([  42000.,   38500.,   49500.,   60500.,   61000.,   66000.,\n",
       "         69000.,   83800.,   88500.,   90000.,   30500.,   27000.,\n",
       "         36000.,   37000.,   37900.,   40500.,   40750.,   45000.,\n",
       "         48500.,   65900.,   38000.,   42300.,   43500.,   44000.,\n",
       "         44500.,   44900.,   48000.,   49000.,   51500.,   61700.,\n",
       "         67000.,   82000.,   54500.,   66500.,   70000.,   92000.,\n",
       "         41000.,   43000.,   54800.,   55000.,   57000.,   68000.,\n",
       "         95000.,   25000.,   25245.,   56000.,   35500.,   30000.,\n",
       "         52000.,   54000.,   60000.,   47000.,   51000.,   32500.,\n",
       "         34000.,   35000.,   63900.,   50000.,   55500.,   78000.,\n",
       "         58000.,  163000.,  128000.,  123500.,   39000.,   53900.,\n",
       "         59900.,   79000.,  125000.,  132000.,   58500.,   73000.,\n",
       "         63500.,   46500.,   75000.,   85000.,   93000.,   94500.,\n",
       "        106500.,  116000.,   61500.,   80000.,   59500.,  117000.,\n",
       "        122500.,  127000.,   49900.,   50500.,   65000.,   46000.,\n",
       "         26500.,   40000.,   57250.,   62000.,   63000.,  130000.,\n",
       "         52900.,   73500.,   52500.,   32000.,   57500.,   69900.,\n",
       "         74500.,   28000.,   44700.,   33000.,   34400.,   53000.,\n",
       "         69500.,   72000.,   92500.,   47900.,  138300.,   64500.,\n",
       "         70100.,   78500.,   87250.,   70800.,   87000.,   42500.,\n",
       "         26000.,   37200.,   71000.,   75500.,   33500.,   46200.,\n",
       "         48900.,   59000.,   64000.,   64900.,   65500.,   47500.,\n",
       "         68100.,   76900.,   83000.,   83900.,   98000.,   98500.,\n",
       "         99000.,  101000.,  110000.,  115442.,  120000.,  124000.,\n",
       "        175000.,  106000.,  155000.,  141000.,   62500.,   88000.,\n",
       "         68500.,   86000.,   86900.,   97000.,  107000.,  145000.,\n",
       "         84900.,  114000.,  100500.,  122000.,  126500.,  133000.,\n",
       "        140000.,  190000.,   84000.,  103500.,  112500.,   74700.,\n",
       "         78900.,   96000.,   77000.,   80750.,   82900.,   76000.,\n",
       "         77500.,   87500.,   89000.,   89900.,  112000.,   31900.,\n",
       "        100000.,   91700.,  174500.,   94700.,   61100.,   62900.,\n",
       "         53500.,   58550.,   51900.,   79500.,   72500.,  104900.,\n",
       "        114900.,   74900.,  120900.,   44555.,   47600.,   89500.,\n",
       "         95500.,  118500.,   42900.,   44100.,   67900.,   70500.,\n",
       "         71500.,   71900.,   62600.,   58900.,   96500.,  102000.,\n",
       "        103000.,  105000.,  108000.,  113000.,  107500.,  113750.,\n",
       "         82500.,   91500.,   94000.])"
      ]
     },
     "execution_count": 36,
     "metadata": {},
     "output_type": "execute_result"
    }
   ],
   "source": [
    "housing.price.unique()"
   ]
  },
  {
   "cell_type": "code",
   "execution_count": 39,
   "metadata": {
    "collapsed": false
   },
   "outputs": [
    {
     "data": {
      "text/plain": [
       "219"
      ]
     },
     "execution_count": 39,
     "metadata": {},
     "output_type": "execute_result"
    }
   ],
   "source": [
    "len(housing['price'].unique())"
   ]
  },
  {
   "cell_type": "code",
   "execution_count": 40,
   "metadata": {
    "collapsed": false
   },
   "outputs": [
    {
     "data": {
      "text/plain": [
       "0    5850\n",
       "1    4000\n",
       "2    3060\n",
       "3    6650\n",
       "4    6360\n",
       "5    4160\n",
       "6    3880\n",
       "Name: lotsize, dtype: int64"
      ]
     },
     "execution_count": 40,
     "metadata": {},
     "output_type": "execute_result"
    }
   ],
   "source": [
    "housing.ix[:6, 'lotsize']"
   ]
  },
  {
   "cell_type": "code",
   "execution_count": 45,
   "metadata": {
    "collapsed": false
   },
   "outputs": [
    {
     "data": {
      "text/plain": [
       "0       True\n",
       "1      False\n",
       "2      False\n",
       "3      False\n",
       "4      False\n",
       "5      False\n",
       "6      False\n",
       "7      False\n",
       "8      False\n",
       "9      False\n",
       "10     False\n",
       "11     False\n",
       "12     False\n",
       "13     False\n",
       "14     False\n",
       "15     False\n",
       "16     False\n",
       "17     False\n",
       "18     False\n",
       "19     False\n",
       "20     False\n",
       "21     False\n",
       "22     False\n",
       "23     False\n",
       "24      True\n",
       "25     False\n",
       "26     False\n",
       "27     False\n",
       "28     False\n",
       "29     False\n",
       "       ...  \n",
       "516    False\n",
       "517    False\n",
       "518    False\n",
       "519    False\n",
       "520    False\n",
       "521    False\n",
       "522    False\n",
       "523    False\n",
       "524    False\n",
       "525    False\n",
       "526    False\n",
       "527    False\n",
       "528    False\n",
       "529    False\n",
       "530    False\n",
       "531    False\n",
       "532    False\n",
       "533    False\n",
       "534    False\n",
       "535    False\n",
       "536    False\n",
       "537    False\n",
       "538    False\n",
       "539    False\n",
       "540    False\n",
       "541    False\n",
       "542    False\n",
       "543    False\n",
       "544    False\n",
       "545    False\n",
       "Name: price, dtype: bool"
      ]
     },
     "execution_count": 45,
     "metadata": {},
     "output_type": "execute_result"
    }
   ],
   "source": [
    "housing.ix[:,'price'] == 42000.0"
   ]
  },
  {
   "cell_type": "code",
   "execution_count": 46,
   "metadata": {
    "collapsed": false
   },
   "outputs": [
    {
     "data": {
      "text/plain": [
       "546"
      ]
     },
     "execution_count": 46,
     "metadata": {},
     "output_type": "execute_result"
    }
   ],
   "source": [
    "len(housing.ix[:,'price'] == 42000.0)"
   ]
  }
 ],
 "metadata": {
  "kernelspec": {
   "display_name": "Python 3",
   "language": "python",
   "name": "python3"
  },
  "language_info": {
   "codemirror_mode": {
    "name": "ipython",
    "version": 3
   },
   "file_extension": ".py",
   "mimetype": "text/x-python",
   "name": "python",
   "nbconvert_exporter": "python",
   "pygments_lexer": "ipython3",
   "version": "3.5.1"
  }
 },
 "nbformat": 4,
 "nbformat_minor": 0
}
