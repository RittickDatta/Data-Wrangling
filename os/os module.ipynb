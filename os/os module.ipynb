{
 "cells": [
  {
   "cell_type": "code",
   "execution_count": 1,
   "metadata": {
    "collapsed": true
   },
   "outputs": [],
   "source": [
    "import os"
   ]
  },
  {
   "cell_type": "code",
   "execution_count": 8,
   "metadata": {
    "collapsed": false
   },
   "outputs": [
    {
     "data": {
      "text/plain": [
       "'nt'"
      ]
     },
     "execution_count": 8,
     "metadata": {},
     "output_type": "execute_result"
    }
   ],
   "source": [
    "os.name"
   ]
  },
  {
   "cell_type": "code",
   "execution_count": 9,
   "metadata": {
    "collapsed": false
   },
   "outputs": [
    {
     "data": {
      "text/plain": [
       "'C:\\\\Users\\\\Rittick\\\\Documents\\\\Jupyter_Notebooks'"
      ]
     },
     "execution_count": 9,
     "metadata": {},
     "output_type": "execute_result"
    }
   ],
   "source": [
    "os.getcwd()"
   ]
  },
  {
   "cell_type": "code",
   "execution_count": 11,
   "metadata": {
    "collapsed": false
   },
   "outputs": [],
   "source": [
    "try:\n",
    "    filename = 'sample.txt'\n",
    "    f = open(filename,'r')\n",
    "    text = f.read()\n",
    "    f.close()\n",
    "    \n",
    "except IOError:\n",
    "    print(\"Problem reading: \", filename)"
   ]
  },
  {
   "cell_type": "code",
   "execution_count": 16,
   "metadata": {
    "collapsed": false
   },
   "outputs": [
    {
     "name": "stdout",
     "output_type": "stream",
     "text": [
      "Hello\n"
     ]
    },
    {
     "data": {
      "text/plain": [
       "10"
      ]
     },
     "execution_count": 16,
     "metadata": {},
     "output_type": "execute_result"
    }
   ],
   "source": [
    "fd=\"GFG.txt\"\n",
    "file = open(fd, 'w')\n",
    "file.write('Hello')\n",
    "file.close()\n",
    "file = open(fd, 'r')\n",
    "text = file.read()\n",
    "print(text)\n",
    "file = os.popen(fd, 'w')\n",
    "file.write(\"Hello sir!\")"
   ]
  },
  {
   "cell_type": "code",
   "execution_count": 21,
   "metadata": {
    "collapsed": false
   },
   "outputs": [
    {
     "name": "stdout",
     "output_type": "stream",
     "text": [
      "Hello\n"
     ]
    },
    {
     "ename": "TypeError",
     "evalue": "an integer is required (got type _io.TextIOWrapper)",
     "output_type": "error",
     "traceback": [
      "\u001b[1;31m---------------------------------------------------------------------------\u001b[0m",
      "\u001b[1;31mTypeError\u001b[0m                                 Traceback (most recent call last)",
      "\u001b[1;32m<ipython-input-21-dcb1c9aa599d>\u001b[0m in \u001b[0;36m<module>\u001b[1;34m()\u001b[0m\n\u001b[0;32m      2\u001b[0m \u001b[0mtext\u001b[0m \u001b[1;33m=\u001b[0m \u001b[0mfile\u001b[0m\u001b[1;33m.\u001b[0m\u001b[0mread\u001b[0m\u001b[1;33m(\u001b[0m\u001b[1;33m)\u001b[0m\u001b[1;33m\u001b[0m\u001b[0m\n\u001b[0;32m      3\u001b[0m \u001b[0mprint\u001b[0m\u001b[1;33m(\u001b[0m\u001b[0mtext\u001b[0m\u001b[1;33m)\u001b[0m\u001b[1;33m\u001b[0m\u001b[0m\n\u001b[1;32m----> 4\u001b[1;33m \u001b[0mos\u001b[0m\u001b[1;33m.\u001b[0m\u001b[0mclose\u001b[0m\u001b[1;33m(\u001b[0m\u001b[0mfile\u001b[0m\u001b[1;33m)\u001b[0m\u001b[1;33m\u001b[0m\u001b[0m\n\u001b[0m",
      "\u001b[1;31mTypeError\u001b[0m: an integer is required (got type _io.TextIOWrapper)"
     ]
    }
   ],
   "source": [
    "file = open(\"GFG.txt\", 'r')\n",
    "text = file.read()\n",
    "print(text)\n",
    "os.close(file)"
   ]
  },
  {
   "cell_type": "code",
   "execution_count": 23,
   "metadata": {
    "collapsed": false
   },
   "outputs": [],
   "source": [
    "fd = \"file1.txt\"\n",
    "os.rename(fd, \"NewFile.txt\")"
   ]
  },
  {
   "cell_type": "code",
   "execution_count": 24,
   "metadata": {
    "collapsed": false
   },
   "outputs": [
    {
     "ename": "FileNotFoundError",
     "evalue": "[WinError 2] The system cannot find the file specified: 'file1.txt' -> 'OtherName.txt'",
     "output_type": "error",
     "traceback": [
      "\u001b[1;31m---------------------------------------------------------------------------\u001b[0m",
      "\u001b[1;31mFileNotFoundError\u001b[0m                         Traceback (most recent call last)",
      "\u001b[1;32m<ipython-input-24-85835a9c26e9>\u001b[0m in \u001b[0;36m<module>\u001b[1;34m()\u001b[0m\n\u001b[1;32m----> 1\u001b[1;33m \u001b[0mos\u001b[0m\u001b[1;33m.\u001b[0m\u001b[0mrename\u001b[0m\u001b[1;33m(\u001b[0m\u001b[0mfd\u001b[0m\u001b[1;33m,\u001b[0m\u001b[1;34m\"OtherName.txt\"\u001b[0m\u001b[1;33m)\u001b[0m\u001b[1;33m\u001b[0m\u001b[0m\n\u001b[0m",
      "\u001b[1;31mFileNotFoundError\u001b[0m: [WinError 2] The system cannot find the file specified: 'file1.txt' -> 'OtherName.txt'"
     ]
    }
   ],
   "source": [
    "os.rename(fd,\"OtherName.txt\")"
   ]
  },
  {
   "cell_type": "code",
   "execution_count": 28,
   "metadata": {
    "collapsed": false
   },
   "outputs": [
    {
     "data": {
      "text/plain": [
       "False"
      ]
     },
     "execution_count": 28,
     "metadata": {},
     "output_type": "execute_result"
    }
   ],
   "source": [
    "os.access(\"file1.txt\", os.F_OK)"
   ]
  },
  {
   "cell_type": "code",
   "execution_count": 27,
   "metadata": {
    "collapsed": false
   },
   "outputs": [
    {
     "data": {
      "text/plain": [
       "True"
      ]
     },
     "execution_count": 27,
     "metadata": {},
     "output_type": "execute_result"
    }
   ],
   "source": [
    "os.access(\"NewFile.txt\", os.F_OK)"
   ]
  },
  {
   "cell_type": "code",
   "execution_count": 29,
   "metadata": {
    "collapsed": false
   },
   "outputs": [
    {
     "data": {
      "text/plain": [
       "True"
      ]
     },
     "execution_count": 29,
     "metadata": {},
     "output_type": "execute_result"
    }
   ],
   "source": [
    "os.access(\"NewFile.txt\", os.R_OK)"
   ]
  },
  {
   "cell_type": "code",
   "execution_count": 30,
   "metadata": {
    "collapsed": false
   },
   "outputs": [
    {
     "data": {
      "text/plain": [
       "True"
      ]
     },
     "execution_count": 30,
     "metadata": {},
     "output_type": "execute_result"
    }
   ],
   "source": [
    "os.access(\"NewFile.txt\", os.W_OK)"
   ]
  },
  {
   "cell_type": "code",
   "execution_count": 31,
   "metadata": {
    "collapsed": false
   },
   "outputs": [
    {
     "data": {
      "text/plain": [
       "True"
      ]
     },
     "execution_count": 31,
     "metadata": {},
     "output_type": "execute_result"
    }
   ],
   "source": [
    "os.access(\"NewFile.txt\", os.X_OK)"
   ]
  },
  {
   "cell_type": "code",
   "execution_count": 32,
   "metadata": {
    "collapsed": false
   },
   "outputs": [
    {
     "data": {
      "text/plain": [
       "'C:\\\\Users\\\\Rittick\\\\Documents\\\\Jupyter_Notebooks'"
      ]
     },
     "execution_count": 32,
     "metadata": {},
     "output_type": "execute_result"
    }
   ],
   "source": [
    "os.getcwd()"
   ]
  },
  {
   "cell_type": "code",
   "execution_count": 33,
   "metadata": {
    "collapsed": true
   },
   "outputs": [],
   "source": [
    "os.chdir('..')"
   ]
  },
  {
   "cell_type": "code",
   "execution_count": 34,
   "metadata": {
    "collapsed": false
   },
   "outputs": [
    {
     "data": {
      "text/plain": [
       "'C:\\\\Users\\\\Rittick\\\\Documents'"
      ]
     },
     "execution_count": 34,
     "metadata": {},
     "output_type": "execute_result"
    }
   ],
   "source": [
    "os.getcwd()"
   ]
  },
  {
   "cell_type": "code",
   "execution_count": 35,
   "metadata": {
    "collapsed": true
   },
   "outputs": [],
   "source": [
    "os.chdir('Jupyter_Notebooks')"
   ]
  },
  {
   "cell_type": "code",
   "execution_count": 36,
   "metadata": {
    "collapsed": false
   },
   "outputs": [
    {
     "data": {
      "text/plain": [
       "'C:\\\\Users\\\\Rittick\\\\Documents\\\\Jupyter_Notebooks'"
      ]
     },
     "execution_count": 36,
     "metadata": {},
     "output_type": "execute_result"
    }
   ],
   "source": [
    "os.getcwd()"
   ]
  },
  {
   "cell_type": "code",
   "execution_count": 40,
   "metadata": {
    "collapsed": true
   },
   "outputs": [],
   "source": [
    "import sys, stat"
   ]
  },
  {
   "cell_type": "code",
   "execution_count": 41,
   "metadata": {
    "collapsed": true
   },
   "outputs": [],
   "source": [
    "os.chmod('NewFile.txt', stat.S_IXGRP)"
   ]
  },
  {
   "cell_type": "code",
   "execution_count": 44,
   "metadata": {
    "collapsed": false
   },
   "outputs": [
    {
     "data": {
      "text/plain": [
       "['.git',\n",
       " '.ipynb_checkpoints',\n",
       " 'Adding and deleting columns - Index operations.ipynb',\n",
       " 'Aggregating Data.ipynb',\n",
       " 'Array Creation.ipynb',\n",
       " 'Basic Linear Algebra.ipynb',\n",
       " 'Basic Statistics.ipynb',\n",
       " 'Bikes.csv',\n",
       " 'CollegeScorecard_Raw_Data.zip',\n",
       " 'CollegeScorecard_Raw_Data.zip.part',\n",
       " 'Combining data from various sources.ipynb',\n",
       " 'Consumer Complaint Exploration.ipynb',\n",
       " 'Conversions.ipynb',\n",
       " 'Converting between different kinds of formats.ipynb',\n",
       " 'Creating and Inserting Data using pymysql package.ipynb',\n",
       " 'Creating functions - Reading from EXCEL - Exporting to EXCEL - Outliers - Lambda functions - Slice and dice data.ipynb',\n",
       " 'Data',\n",
       " 'Data Dot World Notebook.ipynb',\n",
       " 'file12.txt',\n",
       " 'flipkart.csv',\n",
       " 'GFG.txt',\n",
       " 'GroupBy function.ipynb',\n",
       " 'Hate Crimes.ipynb',\n",
       " 'Housing.csv',\n",
       " 'Importing libraries - Creating data sets - Creating data frames - Reading from CSV - Exporting to CSV - Finding maximums - Plotting data.ipynb',\n",
       " 'Indexing and Index tricks.ipynb',\n",
       " 'Manipulations.ipynb',\n",
       " 'Munging Data.ipynb',\n",
       " 'NewFile.txt',\n",
       " 'Numpy - Syntax Revision.ipynb',\n",
       " 'Operations.ipynb',\n",
       " 'Ordering.ipynb',\n",
       " 'os module.ipynb',\n",
       " 'persons.csv',\n",
       " 'Police Department Map Exploration.ipynb',\n",
       " 'Potholes Dataset Exploration.ipynb',\n",
       " 'Potholes_Patched.csv',\n",
       " 'Python Functions.ipynb',\n",
       " 'Python Machine Learning.ipynb',\n",
       " 'Python Toolkit Deployed.ipynb',\n",
       " 'Python Toolkit In-Production.ipynb',\n",
       " 'Python Warm-Up.ipynb',\n",
       " 'Python3 - Syntax Revision.ipynb',\n",
       " 'Questions.ipynb',\n",
       " 'Reading from TXT - Exporting to TXT - Selecting top bottom records - Descriptive statistics - Grouping sorting data.ipynb',\n",
       " 'README.md',\n",
       " 'Red Light Camera Violations Exploration.ipynb',\n",
       " 'Rolling Mean using Pandas.ipynb',\n",
       " 'Sample',\n",
       " 'Sample.txt',\n",
       " 'SciPy - Refresher.ipynb',\n",
       " 'SomeSheet.xlsx',\n",
       " 'Stack Unstack Transpose functions.ipynb',\n",
       " 'state_data.xlsx',\n",
       " 'Test_File1.xlsx',\n",
       " 'Test_File2.xlsx',\n",
       " 'Test_File3.xlsx',\n",
       " 'Towed Vehicles Exploratory Analysis.ipynb',\n",
       " 'train.csv',\n",
       " 'Untitled.ipynb',\n",
       " 'Visualizing Data.ipynb',\n",
       " 'Ways to calculate outliers.ipynb']"
      ]
     },
     "execution_count": 44,
     "metadata": {},
     "output_type": "execute_result"
    }
   ],
   "source": [
    "os.listdir()"
   ]
  },
  {
   "cell_type": "code",
   "execution_count": 46,
   "metadata": {
    "collapsed": false
   },
   "outputs": [],
   "source": [
    "os.mkdir('New Directory')"
   ]
  },
  {
   "cell_type": "code",
   "execution_count": 47,
   "metadata": {
    "collapsed": true
   },
   "outputs": [],
   "source": [
    "os.chdir('New Directory/')"
   ]
  },
  {
   "cell_type": "code",
   "execution_count": 48,
   "metadata": {
    "collapsed": false
   },
   "outputs": [
    {
     "data": {
      "text/plain": [
       "'C:\\\\Users\\\\Rittick\\\\Documents\\\\Jupyter_Notebooks\\\\New Directory'"
      ]
     },
     "execution_count": 48,
     "metadata": {},
     "output_type": "execute_result"
    }
   ],
   "source": [
    "os.getcwd()"
   ]
  },
  {
   "cell_type": "code",
   "execution_count": 49,
   "metadata": {
    "collapsed": false
   },
   "outputs": [
    {
     "ename": "AttributeError",
     "evalue": "module 'os' has no attribute 'mkdirs'",
     "output_type": "error",
     "traceback": [
      "\u001b[1;31m---------------------------------------------------------------------------\u001b[0m",
      "\u001b[1;31mAttributeError\u001b[0m                            Traceback (most recent call last)",
      "\u001b[1;32m<ipython-input-49-f123d1e50c83>\u001b[0m in \u001b[0;36m<module>\u001b[1;34m()\u001b[0m\n\u001b[1;32m----> 1\u001b[1;33m \u001b[0mos\u001b[0m\u001b[1;33m.\u001b[0m\u001b[0mmkdirs\u001b[0m\u001b[1;33m(\u001b[0m\u001b[1;34m'New Folder 3/tmp/data'\u001b[0m\u001b[1;33m)\u001b[0m\u001b[1;33m\u001b[0m\u001b[0m\n\u001b[0m",
      "\u001b[1;31mAttributeError\u001b[0m: module 'os' has no attribute 'mkdirs'"
     ]
    }
   ],
   "source": [
    "os.mkdirs('New Folder 3/tmp/data')"
   ]
  },
  {
   "cell_type": "code",
   "execution_count": 53,
   "metadata": {
    "collapsed": true
   },
   "outputs": [],
   "source": [
    "os.makedirs('NewFolder/Tmp/Data')"
   ]
  },
  {
   "cell_type": "code",
   "execution_count": 51,
   "metadata": {
    "collapsed": true
   },
   "outputs": [],
   "source": [
    "os.chdir(\"..\")"
   ]
  },
  {
   "cell_type": "code",
   "execution_count": 52,
   "metadata": {
    "collapsed": false
   },
   "outputs": [
    {
     "data": {
      "text/plain": [
       "'C:\\\\Users\\\\Rittick\\\\Documents\\\\Jupyter_Notebooks'"
      ]
     },
     "execution_count": 52,
     "metadata": {},
     "output_type": "execute_result"
    }
   ],
   "source": [
    "os.getcwd()"
   ]
  },
  {
   "cell_type": "code",
   "execution_count": 54,
   "metadata": {
    "collapsed": false
   },
   "outputs": [
    {
     "ename": "PermissionError",
     "evalue": "[WinError 5] Access is denied: 'NewFolder/'",
     "output_type": "error",
     "traceback": [
      "\u001b[1;31m---------------------------------------------------------------------------\u001b[0m",
      "\u001b[1;31mPermissionError\u001b[0m                           Traceback (most recent call last)",
      "\u001b[1;32m<ipython-input-54-8ecdb95bd20b>\u001b[0m in \u001b[0;36m<module>\u001b[1;34m()\u001b[0m\n\u001b[1;32m----> 1\u001b[1;33m \u001b[0mos\u001b[0m\u001b[1;33m.\u001b[0m\u001b[0mremove\u001b[0m\u001b[1;33m(\u001b[0m\u001b[1;34m'NewFolder/'\u001b[0m\u001b[1;33m)\u001b[0m\u001b[1;33m\u001b[0m\u001b[0m\n\u001b[0m",
      "\u001b[1;31mPermissionError\u001b[0m: [WinError 5] Access is denied: 'NewFolder/'"
     ]
    }
   ],
   "source": [
    "os.remove('NewFolder/')"
   ]
  },
  {
   "cell_type": "code",
   "execution_count": 55,
   "metadata": {
    "collapsed": false
   },
   "outputs": [
    {
     "ename": "OSError",
     "evalue": "[WinError 145] The directory is not empty: 'NewFolder/'",
     "output_type": "error",
     "traceback": [
      "\u001b[1;31m---------------------------------------------------------------------------\u001b[0m",
      "\u001b[1;31mOSError\u001b[0m                                   Traceback (most recent call last)",
      "\u001b[1;32m<ipython-input-55-e1e55c5bcfd9>\u001b[0m in \u001b[0;36m<module>\u001b[1;34m()\u001b[0m\n\u001b[1;32m----> 1\u001b[1;33m \u001b[0mos\u001b[0m\u001b[1;33m.\u001b[0m\u001b[0mremovedirs\u001b[0m\u001b[1;33m(\u001b[0m\u001b[1;34m'NewFolder/'\u001b[0m\u001b[1;33m)\u001b[0m\u001b[1;33m\u001b[0m\u001b[0m\n\u001b[0m",
      "\u001b[1;32mC:\\Users\\Rittick\\Anaconda3\\lib\\os.py\u001b[0m in \u001b[0;36mremovedirs\u001b[1;34m(name)\u001b[0m\n\u001b[0;32m    257\u001b[0m \u001b[1;33m\u001b[0m\u001b[0m\n\u001b[0;32m    258\u001b[0m     \"\"\"\n\u001b[1;32m--> 259\u001b[1;33m     \u001b[0mrmdir\u001b[0m\u001b[1;33m(\u001b[0m\u001b[0mname\u001b[0m\u001b[1;33m)\u001b[0m\u001b[1;33m\u001b[0m\u001b[0m\n\u001b[0m\u001b[0;32m    260\u001b[0m     \u001b[0mhead\u001b[0m\u001b[1;33m,\u001b[0m \u001b[0mtail\u001b[0m \u001b[1;33m=\u001b[0m \u001b[0mpath\u001b[0m\u001b[1;33m.\u001b[0m\u001b[0msplit\u001b[0m\u001b[1;33m(\u001b[0m\u001b[0mname\u001b[0m\u001b[1;33m)\u001b[0m\u001b[1;33m\u001b[0m\u001b[0m\n\u001b[0;32m    261\u001b[0m     \u001b[1;32mif\u001b[0m \u001b[1;32mnot\u001b[0m \u001b[0mtail\u001b[0m\u001b[1;33m:\u001b[0m\u001b[1;33m\u001b[0m\u001b[0m\n",
      "\u001b[1;31mOSError\u001b[0m: [WinError 145] The directory is not empty: 'NewFolder/'"
     ]
    }
   ],
   "source": [
    "os.removedirs('NewFolder/')"
   ]
  },
  {
   "cell_type": "code",
   "execution_count": 56,
   "metadata": {
    "collapsed": true
   },
   "outputs": [],
   "source": [
    "os.rename('NewFolder/', 'NewNew')\n"
   ]
  },
  {
   "cell_type": "code",
   "execution_count": 58,
   "metadata": {
    "collapsed": false
   },
   "outputs": [
    {
     "data": {
      "text/plain": [
       "['.git',\n",
       " '.ipynb_checkpoints',\n",
       " 'Adding and deleting columns - Index operations.ipynb',\n",
       " 'Aggregating Data.ipynb',\n",
       " 'Array Creation.ipynb',\n",
       " 'Basic Linear Algebra.ipynb',\n",
       " 'Basic Statistics.ipynb',\n",
       " 'Bikes.csv',\n",
       " 'CollegeScorecard_Raw_Data.zip',\n",
       " 'CollegeScorecard_Raw_Data.zip.part',\n",
       " 'Combining data from various sources.ipynb',\n",
       " 'Consumer Complaint Exploration.ipynb',\n",
       " 'Conversions.ipynb',\n",
       " 'Converting between different kinds of formats.ipynb',\n",
       " 'Creating and Inserting Data using pymysql package.ipynb',\n",
       " 'Creating functions - Reading from EXCEL - Exporting to EXCEL - Outliers - Lambda functions - Slice and dice data.ipynb',\n",
       " 'Data',\n",
       " 'Data Dot World Notebook.ipynb',\n",
       " 'file12.txt',\n",
       " 'flipkart.csv',\n",
       " 'GFG.txt',\n",
       " 'GroupBy function.ipynb',\n",
       " 'Hate Crimes.ipynb',\n",
       " 'Housing.csv',\n",
       " 'Importing libraries - Creating data sets - Creating data frames - Reading from CSV - Exporting to CSV - Finding maximums - Plotting data.ipynb',\n",
       " 'Indexing and Index tricks.ipynb',\n",
       " 'Manipulations.ipynb',\n",
       " 'Munging Data.ipynb',\n",
       " 'New Directory',\n",
       " 'NewFile.txt',\n",
       " 'NewNew',\n",
       " 'Numpy - Syntax Revision.ipynb',\n",
       " 'Operations.ipynb',\n",
       " 'Ordering.ipynb',\n",
       " 'os module.ipynb',\n",
       " 'persons.csv',\n",
       " 'Police Department Map Exploration.ipynb',\n",
       " 'Potholes Dataset Exploration.ipynb',\n",
       " 'Potholes_Patched.csv',\n",
       " 'Python Functions.ipynb',\n",
       " 'Python Machine Learning.ipynb',\n",
       " 'Python Toolkit Deployed.ipynb',\n",
       " 'Python Toolkit In-Production.ipynb',\n",
       " 'Python Warm-Up.ipynb',\n",
       " 'Python3 - Syntax Revision.ipynb',\n",
       " 'Questions.ipynb',\n",
       " 'Reading from TXT - Exporting to TXT - Selecting top bottom records - Descriptive statistics - Grouping sorting data.ipynb',\n",
       " 'README.md',\n",
       " 'Red Light Camera Violations Exploration.ipynb',\n",
       " 'Rolling Mean using Pandas.ipynb',\n",
       " 'Sample',\n",
       " 'Sample.txt',\n",
       " 'SciPy - Refresher.ipynb',\n",
       " 'SomeSheet.xlsx',\n",
       " 'Stack Unstack Transpose functions.ipynb',\n",
       " 'state_data.xlsx',\n",
       " 'Test_File1.xlsx',\n",
       " 'Test_File2.xlsx',\n",
       " 'Test_File3.xlsx',\n",
       " 'Towed Vehicles Exploratory Analysis.ipynb',\n",
       " 'train.csv',\n",
       " 'Untitled.ipynb',\n",
       " 'Visualizing Data.ipynb',\n",
       " 'Ways to calculate outliers.ipynb']"
      ]
     },
     "execution_count": 58,
     "metadata": {},
     "output_type": "execute_result"
    }
   ],
   "source": [
    "os.listdir(os.getcwd())"
   ]
  },
  {
   "cell_type": "code",
   "execution_count": null,
   "metadata": {
    "collapsed": true
   },
   "outputs": [],
   "source": []
  }
 ],
 "metadata": {
  "kernelspec": {
   "display_name": "Python 3",
   "language": "python",
   "name": "python3"
  },
  "language_info": {
   "codemirror_mode": {
    "name": "ipython",
    "version": 3
   },
   "file_extension": ".py",
   "mimetype": "text/x-python",
   "name": "python",
   "nbconvert_exporter": "python",
   "pygments_lexer": "ipython3",
   "version": "3.5.1"
  }
 },
 "nbformat": 4,
 "nbformat_minor": 0
}
